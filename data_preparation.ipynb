{
 "cells": [
  {
   "cell_type": "code",
   "execution_count": 1,
   "metadata": {},
   "outputs": [],
   "source": [
    "import pandas as pd"
   ]
  },
  {
   "cell_type": "code",
   "execution_count": 2,
   "metadata": {},
   "outputs": [],
   "source": [
    "df = pd.read_csv('glassdoor_jobs.csv')\n",
    "if 'Unnamed: 0' in df.columns:\n",
    "    df.drop('Unnamed: 0', axis=1, inplace=True)"
   ]
  },
  {
   "cell_type": "code",
   "execution_count": 3,
   "metadata": {
    "scrolled": true
   },
   "outputs": [
    {
     "data": {
      "text/html": [
       "<div>\n",
       "<style scoped>\n",
       "    .dataframe tbody tr th:only-of-type {\n",
       "        vertical-align: middle;\n",
       "    }\n",
       "\n",
       "    .dataframe tbody tr th {\n",
       "        vertical-align: top;\n",
       "    }\n",
       "\n",
       "    .dataframe thead th {\n",
       "        text-align: right;\n",
       "    }\n",
       "</style>\n",
       "<table border=\"1\" class=\"dataframe\">\n",
       "  <thead>\n",
       "    <tr style=\"text-align: right;\">\n",
       "      <th></th>\n",
       "      <th>Job Title</th>\n",
       "      <th>Salary Estimate</th>\n",
       "      <th>Job Description</th>\n",
       "      <th>Rating</th>\n",
       "      <th>Company Name</th>\n",
       "      <th>Location</th>\n",
       "      <th>Headquarters</th>\n",
       "      <th>Size</th>\n",
       "      <th>Founded</th>\n",
       "      <th>Type of ownership</th>\n",
       "      <th>Industry</th>\n",
       "      <th>Sector</th>\n",
       "      <th>Revenue</th>\n",
       "      <th>Competitors</th>\n",
       "    </tr>\n",
       "  </thead>\n",
       "  <tbody>\n",
       "    <tr>\n",
       "      <th>0</th>\n",
       "      <td>Data Scientist</td>\n",
       "      <td>$53K-$91K (Glassdoor est.)</td>\n",
       "      <td>Data Scientist\\r\\nLocation: Albuquerque, NM\\r\\...</td>\n",
       "      <td>3.8</td>\n",
       "      <td>Tecolote Research\\r\\n3.8</td>\n",
       "      <td>Albuquerque, NM</td>\n",
       "      <td>Goleta, CA</td>\n",
       "      <td>501 to 1000 employees</td>\n",
       "      <td>1973</td>\n",
       "      <td>Company - Private</td>\n",
       "      <td>Aerospace &amp; Defense</td>\n",
       "      <td>Aerospace &amp; Defense</td>\n",
       "      <td>$50 to $100 million (USD)</td>\n",
       "      <td>-1</td>\n",
       "    </tr>\n",
       "    <tr>\n",
       "      <th>1</th>\n",
       "      <td>Healthcare Data Scientist</td>\n",
       "      <td>$63K-$112K (Glassdoor est.)</td>\n",
       "      <td>What You Will Do:\\r\\n\\r\\nI. General Summary\\r\\...</td>\n",
       "      <td>3.4</td>\n",
       "      <td>University of Maryland Medical System\\r\\n3.4</td>\n",
       "      <td>Linthicum, MD</td>\n",
       "      <td>Baltimore, MD</td>\n",
       "      <td>10000+ employees</td>\n",
       "      <td>1984</td>\n",
       "      <td>Other Organization</td>\n",
       "      <td>Health Care Services &amp; Hospitals</td>\n",
       "      <td>Health Care</td>\n",
       "      <td>$2 to $5 billion (USD)</td>\n",
       "      <td>-1</td>\n",
       "    </tr>\n",
       "    <tr>\n",
       "      <th>2</th>\n",
       "      <td>Data Scientist</td>\n",
       "      <td>$80K-$90K (Glassdoor est.)</td>\n",
       "      <td>KnowBe4, Inc. is a high growth information sec...</td>\n",
       "      <td>4.8</td>\n",
       "      <td>KnowBe4\\r\\n4.8</td>\n",
       "      <td>Clearwater, FL</td>\n",
       "      <td>Clearwater, FL</td>\n",
       "      <td>501 to 1000 employees</td>\n",
       "      <td>2010</td>\n",
       "      <td>Company - Private</td>\n",
       "      <td>Security Services</td>\n",
       "      <td>Business Services</td>\n",
       "      <td>$100 to $500 million (USD)</td>\n",
       "      <td>-1</td>\n",
       "    </tr>\n",
       "    <tr>\n",
       "      <th>3</th>\n",
       "      <td>Data Scientist</td>\n",
       "      <td>$56K-$97K (Glassdoor est.)</td>\n",
       "      <td>*Organization and Job ID**\\r\\nJob ID: 310709\\r...</td>\n",
       "      <td>3.8</td>\n",
       "      <td>PNNL\\r\\n3.8</td>\n",
       "      <td>Richland, WA</td>\n",
       "      <td>Richland, WA</td>\n",
       "      <td>1001 to 5000 employees</td>\n",
       "      <td>1965</td>\n",
       "      <td>Government</td>\n",
       "      <td>Energy</td>\n",
       "      <td>Oil, Gas, Energy &amp; Utilities</td>\n",
       "      <td>$500 million to $1 billion (USD)</td>\n",
       "      <td>Oak Ridge National Laboratory, National Renewa...</td>\n",
       "    </tr>\n",
       "    <tr>\n",
       "      <th>4</th>\n",
       "      <td>Data Scientist</td>\n",
       "      <td>$86K-$143K (Glassdoor est.)</td>\n",
       "      <td>Data Scientist\\r\\nAffinity Solutions / Marketi...</td>\n",
       "      <td>2.9</td>\n",
       "      <td>Affinity Solutions\\r\\n2.9</td>\n",
       "      <td>New York, NY</td>\n",
       "      <td>New York, NY</td>\n",
       "      <td>51 to 200 employees</td>\n",
       "      <td>1998</td>\n",
       "      <td>Company - Private</td>\n",
       "      <td>Advertising &amp; Marketing</td>\n",
       "      <td>Business Services</td>\n",
       "      <td>Unknown / Non-Applicable</td>\n",
       "      <td>Commerce Signals, Cardlytics, Yodlee</td>\n",
       "    </tr>\n",
       "  </tbody>\n",
       "</table>\n",
       "</div>"
      ],
      "text/plain": [
       "                   Job Title              Salary Estimate  \\\n",
       "0             Data Scientist   $53K-$91K (Glassdoor est.)   \n",
       "1  Healthcare Data Scientist  $63K-$112K (Glassdoor est.)   \n",
       "2             Data Scientist   $80K-$90K (Glassdoor est.)   \n",
       "3             Data Scientist   $56K-$97K (Glassdoor est.)   \n",
       "4             Data Scientist  $86K-$143K (Glassdoor est.)   \n",
       "\n",
       "                                     Job Description  Rating  \\\n",
       "0  Data Scientist\\r\\nLocation: Albuquerque, NM\\r\\...     3.8   \n",
       "1  What You Will Do:\\r\\n\\r\\nI. General Summary\\r\\...     3.4   \n",
       "2  KnowBe4, Inc. is a high growth information sec...     4.8   \n",
       "3  *Organization and Job ID**\\r\\nJob ID: 310709\\r...     3.8   \n",
       "4  Data Scientist\\r\\nAffinity Solutions / Marketi...     2.9   \n",
       "\n",
       "                                   Company Name         Location  \\\n",
       "0                      Tecolote Research\\r\\n3.8  Albuquerque, NM   \n",
       "1  University of Maryland Medical System\\r\\n3.4    Linthicum, MD   \n",
       "2                                KnowBe4\\r\\n4.8   Clearwater, FL   \n",
       "3                                   PNNL\\r\\n3.8     Richland, WA   \n",
       "4                     Affinity Solutions\\r\\n2.9     New York, NY   \n",
       "\n",
       "     Headquarters                    Size  Founded   Type of ownership  \\\n",
       "0      Goleta, CA   501 to 1000 employees     1973   Company - Private   \n",
       "1   Baltimore, MD        10000+ employees     1984  Other Organization   \n",
       "2  Clearwater, FL   501 to 1000 employees     2010   Company - Private   \n",
       "3    Richland, WA  1001 to 5000 employees     1965          Government   \n",
       "4    New York, NY     51 to 200 employees     1998   Company - Private   \n",
       "\n",
       "                           Industry                        Sector  \\\n",
       "0               Aerospace & Defense           Aerospace & Defense   \n",
       "1  Health Care Services & Hospitals                   Health Care   \n",
       "2                 Security Services             Business Services   \n",
       "3                            Energy  Oil, Gas, Energy & Utilities   \n",
       "4           Advertising & Marketing             Business Services   \n",
       "\n",
       "                            Revenue  \\\n",
       "0         $50 to $100 million (USD)   \n",
       "1            $2 to $5 billion (USD)   \n",
       "2        $100 to $500 million (USD)   \n",
       "3  $500 million to $1 billion (USD)   \n",
       "4          Unknown / Non-Applicable   \n",
       "\n",
       "                                         Competitors  \n",
       "0                                                 -1  \n",
       "1                                                 -1  \n",
       "2                                                 -1  \n",
       "3  Oak Ridge National Laboratory, National Renewa...  \n",
       "4               Commerce Signals, Cardlytics, Yodlee  "
      ]
     },
     "execution_count": 3,
     "metadata": {},
     "output_type": "execute_result"
    }
   ],
   "source": [
    "df.head()"
   ]
  },
  {
   "cell_type": "markdown",
   "metadata": {},
   "source": [
    "## Job Title"
   ]
  },
  {
   "cell_type": "code",
   "execution_count": 4,
   "metadata": {},
   "outputs": [],
   "source": [
    "# df['Job Title'].unique()"
   ]
  },
  {
   "cell_type": "code",
   "execution_count": 5,
   "metadata": {},
   "outputs": [],
   "source": [
    "#simp;lify job title\n",
    "def job_title(title):\n",
    "    raw = title\n",
    "    title = title.lower()\n",
    "    if 'director' in title:\n",
    "        return 'director'\n",
    "    elif 'manager' in title:\n",
    "        return 'manager'\n",
    "    elif 'data scientist' in title or 'data science' in title: \n",
    "        return 'data scientist'\n",
    "    elif 'machine learning' in title or 'AI' in raw or 'deep learning' in title or 'NLP' in raw or 'natural language proces' in title or 'computer vision' in title or 'artificial intelligence' in title:\n",
    "        return 'mle'\n",
    "    elif 'data engineer' in title:\n",
    "        return 'data engineer'\n",
    "    elif 'analyst' in title:\n",
    "        return 'analyst'\n",
    "    else:\n",
    "        return 'other'"
   ]
  },
  {
   "cell_type": "code",
   "execution_count": 6,
   "metadata": {},
   "outputs": [],
   "source": [
    "# z = [x for x in df['Job Title'].unique() if 'sr' in x.lower()]\n",
    "# z"
   ]
  },
  {
   "cell_type": "code",
   "execution_count": 7,
   "metadata": {},
   "outputs": [],
   "source": [
    "# [x for x in df['Job Title'].unique() if 'associate' in x.lower()]"
   ]
  },
  {
   "cell_type": "code",
   "execution_count": 8,
   "metadata": {},
   "outputs": [],
   "source": [
    "def job_level(title):\n",
    "    title = title.lower()\n",
    "#     if 'manager' in title or 'director' in title:\n",
    "#         return 'manager'\n",
    "    if 'sr' in title or 'senior' in title or 'lead' in title or 'principal' in title:\n",
    "        return 'senior'\n",
    "    elif 'jr' in title or 'associate' in title:\n",
    "        return 'jr'\n",
    "    else:\n",
    "        return 'other'"
   ]
  },
  {
   "cell_type": "code",
   "execution_count": 9,
   "metadata": {},
   "outputs": [],
   "source": [
    "df['title'] = df['Job Title'].apply(job_title)\n",
    "df['level'] = df['Job Title'].apply(job_level)"
   ]
  },
  {
   "cell_type": "code",
   "execution_count": 10,
   "metadata": {},
   "outputs": [],
   "source": [
    "# df.head()"
   ]
  },
  {
   "cell_type": "code",
   "execution_count": 11,
   "metadata": {},
   "outputs": [
    {
     "name": "stdout",
     "output_type": "stream",
     "text": [
      "data scientist    378\n",
      "other             214\n",
      "data engineer     155\n",
      "analyst           122\n",
      "manager            39\n",
      "mle                29\n",
      "director           19\n",
      "Name: title, dtype: int64\n"
     ]
    },
    {
     "data": {
      "text/plain": [
       "other     661\n",
       "senior    266\n",
       "jr         29\n",
       "Name: level, dtype: int64"
      ]
     },
     "execution_count": 11,
     "metadata": {},
     "output_type": "execute_result"
    }
   ],
   "source": [
    "print(df['title'].value_counts())\n",
    "df['level'].value_counts()"
   ]
  },
  {
   "cell_type": "markdown",
   "metadata": {},
   "source": [
    "## Salary Estimate"
   ]
  },
  {
   "cell_type": "code",
   "execution_count": 12,
   "metadata": {},
   "outputs": [],
   "source": [
    "# df['Salary Estimate'].unique()\n",
    "# [x for x in df['Salary Estimate'].unique() if 'Glassdoor est.' not in x]\n",
    "# [x for x in df['Salary Estimate'].unique() if 'per hour' in x.lower()]"
   ]
  },
  {
   "cell_type": "code",
   "execution_count": 13,
   "metadata": {},
   "outputs": [],
   "source": [
    "df=df[df['Salary Estimate'].str.strip()!='-1']"
   ]
  },
  {
   "cell_type": "code",
   "execution_count": 14,
   "metadata": {},
   "outputs": [],
   "source": [
    "df['hourly'] = df['Salary Estimate'].apply(lambda x:1 if 'per hour' in x.lower() else 0)"
   ]
  },
  {
   "cell_type": "code",
   "execution_count": null,
   "metadata": {},
   "outputs": [],
   "source": []
  },
  {
   "cell_type": "code",
   "execution_count": 15,
   "metadata": {},
   "outputs": [],
   "source": [
    "# [x for x in df['Salary Estimate'] if 'Employer'.lower() in x.lower()]"
   ]
  },
  {
   "cell_type": "code",
   "execution_count": 16,
   "metadata": {},
   "outputs": [],
   "source": [
    "import numpy as np\n",
    "import re\n",
    "def salary_est(salary, hourly):\n",
    "    m=re.search('(\\d{1,4})[\\D]{1,5}(\\d{1,4})', salary)\n",
    "    min_salary = float(m.group(1))\n",
    "    max_salary = float(m.group(2))\n",
    "    if hourly==1:\n",
    "        min_salary = 12*4*40*min_salary/1000\n",
    "        max_salary = 12*4*40*max_salary/1000\n",
    "    avg_salary = (min_salary+max_salary)/2\n",
    "    return min_salary, max_salary, avg_salary\n"
   ]
  },
  {
   "cell_type": "code",
   "execution_count": 17,
   "metadata": {},
   "outputs": [],
   "source": [
    "df['min_salary'], df['max_salary'], df['avg_salary'] = np.vectorize(salary_est)(df['Salary Estimate'], df['hourly'])"
   ]
  },
  {
   "cell_type": "code",
   "execution_count": 18,
   "metadata": {},
   "outputs": [],
   "source": [
    "# df['employer_provided'] = df['Salary Estimate'].apply(lambda x: 1 if 'employer provided salary:' in x.lower() else 0)"
   ]
  },
  {
   "cell_type": "markdown",
   "metadata": {},
   "source": [
    "## Job Description"
   ]
  },
  {
   "cell_type": "code",
   "execution_count": 19,
   "metadata": {},
   "outputs": [],
   "source": [
    "# df['Job Description'].unique()"
   ]
  },
  {
   "cell_type": "code",
   "execution_count": 20,
   "metadata": {},
   "outputs": [],
   "source": [
    "# [x for x in df['Job Description'].unique() if 'excel ' in x.lower()]\n",
    "# [x for x in df['Job Description'].unique() if 'java' in x.lower()]"
   ]
  },
  {
   "cell_type": "code",
   "execution_count": 21,
   "metadata": {},
   "outputs": [],
   "source": [
    "#python\n",
    "df['tech_python'] = df['Job Description'].apply(lambda x: 1 if 'python' in x.lower() else 0)\n",
    " \n",
    "#java\n",
    "df['tech_java'] = df['Job Description'].apply(lambda x: 1 if 'java ' in x.lower()  or 'java,' in x.lower() else 0)\n",
    "\n",
    "#r studio \n",
    "df['tech_R'] = df['Job Description'].apply(lambda x: 1 if 'r studio' in x.lower() or 'r-studio' in x.lower() else 0)\n",
    "\n",
    "#spark \n",
    "df['tech_spark'] = df['Job Description'].apply(lambda x: 1 if 'spark' in x.lower() else 0)\n",
    "\n",
    "#aws \n",
    "df['tech_aws'] = df['Job Description'].apply(lambda x: 1 if 'aws' in x.lower() else 0)\n",
    "\n",
    "#excel\n",
    "df['tech_excel'] = df['Job Description'].apply(lambda x: 1 if 'excel ' in x.lower() or 'excel,' in x.lower() else 0)\n",
    "\n"
   ]
  },
  {
   "cell_type": "code",
   "execution_count": 22,
   "metadata": {},
   "outputs": [],
   "source": [
    "#  Job description length \n",
    "df['len_description'] = df['Job Description'].apply(lambda x: len(x))\n"
   ]
  },
  {
   "cell_type": "markdown",
   "metadata": {},
   "source": [
    "## Rating"
   ]
  },
  {
   "cell_type": "code",
   "execution_count": 23,
   "metadata": {},
   "outputs": [
    {
     "data": {
      "text/plain": [
       "array([ 3.8,  3.4,  4.8,  2.9,  4.1,  3.3,  4.6,  3.5,  3.2,  3.7,  3.6,\n",
       "        3.9,  4.3,  4.2,  4. ,  4.7,  5. ,  3.1,  4.4,  2.8,  2.7,  1.9,\n",
       "        4.5,  3. ,  2.3,  2.6, -1. ,  2.4,  2.5,  2.2,  2.1])"
      ]
     },
     "execution_count": 23,
     "metadata": {},
     "output_type": "execute_result"
    }
   ],
   "source": [
    "df['Rating'].unique()"
   ]
  },
  {
   "cell_type": "code",
   "execution_count": 24,
   "metadata": {},
   "outputs": [
    {
     "data": {
      "text/plain": [
       "<AxesSubplot:>"
      ]
     },
     "execution_count": 24,
     "metadata": {},
     "output_type": "execute_result"
    },
    {
     "data": {
      "image/png": "[encoded data removed]",
      "text/plain": [
       "<Figure size 432x288 with 1 Axes>"
      ]
     },
     "metadata": {
      "needs_background": "light"
     },
     "output_type": "display_data"
    }
   ],
   "source": [
    "df['Rating'].hist(bins=20)"
   ]
  },
  {
   "cell_type": "code",
   "execution_count": 25,
   "metadata": {},
   "outputs": [
    {
     "data": {
      "text/plain": [
       "<AxesSubplot:>"
      ]
     },
     "execution_count": 25,
     "metadata": {},
     "output_type": "execute_result"
    },
    {
     "data": {
      "image/png": "[encoded data removed]",
      "text/plain": [
       "<Figure size 432x288 with 1 Axes>"
      ]
     },
     "metadata": {
      "needs_background": "light"
     },
     "output_type": "display_data"
    }
   ],
   "source": [
    "df[df['Rating']!=-1].boxplot(column='Rating')"
   ]
  },
  {
   "cell_type": "code",
   "execution_count": null,
   "metadata": {},
   "outputs": [],
   "source": []
  },
  {
   "cell_type": "code",
   "execution_count": 26,
   "metadata": {},
   "outputs": [],
   "source": [
    "# pd.Series(pd.qcut(df[df['Rating']!=-1]['Rating'], 4)).value_counts()"
   ]
  },
  {
   "cell_type": "code",
   "execution_count": 27,
   "metadata": {},
   "outputs": [],
   "source": [
    "# pd.Series(pd.qcut(df[df['Rating']!=-1]['Rating'], 4)).value_counts()"
   ]
  },
  {
   "cell_type": "code",
   "execution_count": 28,
   "metadata": {},
   "outputs": [],
   "source": [
    "def bins_rating(x):\n",
    "    if x==-1:\n",
    "        return 'other'\n",
    "    elif x<3:\n",
    "        return 'low'\n",
    "    elif x<4:\n",
    "        return 'medium'\n",
    "    else:\n",
    "        return 'high'\n",
    "df['bins_rating'] = df['Rating'].apply(bins_rating)"
   ]
  },
  {
   "cell_type": "code",
   "execution_count": null,
   "metadata": {},
   "outputs": [],
   "source": []
  },
  {
   "cell_type": "markdown",
   "metadata": {},
   "source": [
    "## Company Name"
   ]
  },
  {
   "cell_type": "code",
   "execution_count": 29,
   "metadata": {},
   "outputs": [],
   "source": [
    "#clean Company Name\n",
    "df['Company Name'] = df['Company Name'].apply(lambda x:x.split('\\r\\n')[0])"
   ]
  },
  {
   "cell_type": "code",
   "execution_count": null,
   "metadata": {},
   "outputs": [],
   "source": []
  },
  {
   "cell_type": "markdown",
   "metadata": {},
   "source": [
    "## Location"
   ]
  },
  {
   "cell_type": "code",
   "execution_count": 30,
   "metadata": {},
   "outputs": [],
   "source": [
    "# df['Location'].unique()"
   ]
  },
  {
   "cell_type": "code",
   "execution_count": 31,
   "metadata": {},
   "outputs": [],
   "source": [
    "df['state_location'] = df['Location'].apply(lambda x: x.split(',')[-1])"
   ]
  },
  {
   "cell_type": "code",
   "execution_count": 32,
   "metadata": {},
   "outputs": [
    {
     "data": {
      "text/plain": [
       "array([' NM', ' MD', ' FL', ' WA', ' NY', ' TX', ' CA', ' VA', ' MA',\n",
       "       ' NJ', ' CO', ' IL', ' KY', ' OR', ' CT', ' MI', ' DC', ' OH',\n",
       "       ' AL', ' MO', ' PA', ' GA', ' IN', ' LA', ' WI', ' NC', ' AZ',\n",
       "       ' NE', ' MN', ' UT', ' TN', ' DE', ' ID', ' RI', ' IA', ' SC',\n",
       "       ' KS'], dtype=object)"
      ]
     },
     "execution_count": 32,
     "metadata": {},
     "output_type": "execute_result"
    }
   ],
   "source": [
    "df['state_location'].unique()"
   ]
  },
  {
   "cell_type": "markdown",
   "metadata": {},
   "source": [
    "## Headquarters"
   ]
  },
  {
   "cell_type": "code",
   "execution_count": 33,
   "metadata": {},
   "outputs": [],
   "source": [
    "# df['Headquarters'].unique()"
   ]
  },
  {
   "cell_type": "code",
   "execution_count": 34,
   "metadata": {},
   "outputs": [],
   "source": [
    "df['state_headquarters'] = df['Headquarters'].apply(lambda x: x.split(',')[-1])"
   ]
  },
  {
   "cell_type": "code",
   "execution_count": 35,
   "metadata": {},
   "outputs": [
    {
     "data": {
      "text/plain": [
       "array([' CA', ' MD', ' FL', ' WA', ' NY', ' TX', ' VA', ' AR', ' Japan',\n",
       "       ' NJ', ' MA', ' CO', ' ID', ' GA', ' MI', ' Switzerland', ' IL',\n",
       "       ' Germany', ' CT', ' NE', ' AL', ' MO', ' OH', ' PA', ' Belgium',\n",
       "       ' China', ' LA', ' DC', ' AZ', ' IN', ' MN', ' SC',\n",
       "       ' United Kingdom', ' UT', ' TN', ' WI', ' DE', ' Bermuda',\n",
       "       ' South Korea', ' RI', ' IA', ' India', ' NC', ' Spain', ' France',\n",
       "       '-1', ' OR'], dtype=object)"
      ]
     },
     "execution_count": 35,
     "metadata": {},
     "output_type": "execute_result"
    }
   ],
   "source": [
    "df['state_headquarters'].unique()"
   ]
  },
  {
   "cell_type": "code",
   "execution_count": 36,
   "metadata": {},
   "outputs": [],
   "source": [
    "# df[df['Headquarters'].str.contains('India')]"
   ]
  },
  {
   "cell_type": "code",
   "execution_count": 37,
   "metadata": {},
   "outputs": [],
   "source": [
    "df['job_in_headquarters'] = df.apply(lambda x: 1 if x.Headquarters == x.Location else 0, axis = 1)\n"
   ]
  },
  {
   "cell_type": "code",
   "execution_count": 38,
   "metadata": {},
   "outputs": [
    {
     "data": {
      "text/html": [
       "<div>\n",
       "<style scoped>\n",
       "    .dataframe tbody tr th:only-of-type {\n",
       "        vertical-align: middle;\n",
       "    }\n",
       "\n",
       "    .dataframe tbody tr th {\n",
       "        vertical-align: top;\n",
       "    }\n",
       "\n",
       "    .dataframe thead th {\n",
       "        text-align: right;\n",
       "    }\n",
       "</style>\n",
       "<table border=\"1\" class=\"dataframe\">\n",
       "  <thead>\n",
       "    <tr style=\"text-align: right;\">\n",
       "      <th></th>\n",
       "      <th>Job Title</th>\n",
       "      <th>Salary Estimate</th>\n",
       "      <th>Job Description</th>\n",
       "      <th>Rating</th>\n",
       "      <th>Company Name</th>\n",
       "      <th>Location</th>\n",
       "      <th>Headquarters</th>\n",
       "      <th>Size</th>\n",
       "      <th>Founded</th>\n",
       "      <th>Type of ownership</th>\n",
       "      <th>...</th>\n",
       "      <th>tech_java</th>\n",
       "      <th>tech_R</th>\n",
       "      <th>tech_spark</th>\n",
       "      <th>tech_aws</th>\n",
       "      <th>tech_excel</th>\n",
       "      <th>len_description</th>\n",
       "      <th>bins_rating</th>\n",
       "      <th>state_location</th>\n",
       "      <th>state_headquarters</th>\n",
       "      <th>job_in_headquarters</th>\n",
       "    </tr>\n",
       "  </thead>\n",
       "  <tbody>\n",
       "    <tr>\n",
       "      <th>0</th>\n",
       "      <td>Data Scientist</td>\n",
       "      <td>$53K-$91K (Glassdoor est.)</td>\n",
       "      <td>Data Scientist\\r\\nLocation: Albuquerque, NM\\r\\...</td>\n",
       "      <td>3.8</td>\n",
       "      <td>Tecolote Research</td>\n",
       "      <td>Albuquerque, NM</td>\n",
       "      <td>Goleta, CA</td>\n",
       "      <td>501 to 1000 employees</td>\n",
       "      <td>1973</td>\n",
       "      <td>Company - Private</td>\n",
       "      <td>...</td>\n",
       "      <td>0</td>\n",
       "      <td>0</td>\n",
       "      <td>0</td>\n",
       "      <td>0</td>\n",
       "      <td>1</td>\n",
       "      <td>2555</td>\n",
       "      <td>medium</td>\n",
       "      <td>NM</td>\n",
       "      <td>CA</td>\n",
       "      <td>0</td>\n",
       "    </tr>\n",
       "    <tr>\n",
       "      <th>1</th>\n",
       "      <td>Healthcare Data Scientist</td>\n",
       "      <td>$63K-$112K (Glassdoor est.)</td>\n",
       "      <td>What You Will Do:\\r\\n\\r\\nI. General Summary\\r\\...</td>\n",
       "      <td>3.4</td>\n",
       "      <td>University of Maryland Medical System</td>\n",
       "      <td>Linthicum, MD</td>\n",
       "      <td>Baltimore, MD</td>\n",
       "      <td>10000+ employees</td>\n",
       "      <td>1984</td>\n",
       "      <td>Other Organization</td>\n",
       "      <td>...</td>\n",
       "      <td>0</td>\n",
       "      <td>0</td>\n",
       "      <td>0</td>\n",
       "      <td>0</td>\n",
       "      <td>0</td>\n",
       "      <td>4828</td>\n",
       "      <td>medium</td>\n",
       "      <td>MD</td>\n",
       "      <td>MD</td>\n",
       "      <td>0</td>\n",
       "    </tr>\n",
       "    <tr>\n",
       "      <th>2</th>\n",
       "      <td>Data Scientist</td>\n",
       "      <td>$80K-$90K (Glassdoor est.)</td>\n",
       "      <td>KnowBe4, Inc. is a high growth information sec...</td>\n",
       "      <td>4.8</td>\n",
       "      <td>KnowBe4</td>\n",
       "      <td>Clearwater, FL</td>\n",
       "      <td>Clearwater, FL</td>\n",
       "      <td>501 to 1000 employees</td>\n",
       "      <td>2010</td>\n",
       "      <td>Company - Private</td>\n",
       "      <td>...</td>\n",
       "      <td>0</td>\n",
       "      <td>0</td>\n",
       "      <td>1</td>\n",
       "      <td>0</td>\n",
       "      <td>1</td>\n",
       "      <td>3495</td>\n",
       "      <td>high</td>\n",
       "      <td>FL</td>\n",
       "      <td>FL</td>\n",
       "      <td>1</td>\n",
       "    </tr>\n",
       "    <tr>\n",
       "      <th>3</th>\n",
       "      <td>Data Scientist</td>\n",
       "      <td>$56K-$97K (Glassdoor est.)</td>\n",
       "      <td>*Organization and Job ID**\\r\\nJob ID: 310709\\r...</td>\n",
       "      <td>3.8</td>\n",
       "      <td>PNNL</td>\n",
       "      <td>Richland, WA</td>\n",
       "      <td>Richland, WA</td>\n",
       "      <td>1001 to 5000 employees</td>\n",
       "      <td>1965</td>\n",
       "      <td>Government</td>\n",
       "      <td>...</td>\n",
       "      <td>0</td>\n",
       "      <td>0</td>\n",
       "      <td>0</td>\n",
       "      <td>0</td>\n",
       "      <td>0</td>\n",
       "      <td>3926</td>\n",
       "      <td>medium</td>\n",
       "      <td>WA</td>\n",
       "      <td>WA</td>\n",
       "      <td>1</td>\n",
       "    </tr>\n",
       "    <tr>\n",
       "      <th>4</th>\n",
       "      <td>Data Scientist</td>\n",
       "      <td>$86K-$143K (Glassdoor est.)</td>\n",
       "      <td>Data Scientist\\r\\nAffinity Solutions / Marketi...</td>\n",
       "      <td>2.9</td>\n",
       "      <td>Affinity Solutions</td>\n",
       "      <td>New York, NY</td>\n",
       "      <td>New York, NY</td>\n",
       "      <td>51 to 200 employees</td>\n",
       "      <td>1998</td>\n",
       "      <td>Company - Private</td>\n",
       "      <td>...</td>\n",
       "      <td>0</td>\n",
       "      <td>0</td>\n",
       "      <td>0</td>\n",
       "      <td>0</td>\n",
       "      <td>0</td>\n",
       "      <td>2748</td>\n",
       "      <td>low</td>\n",
       "      <td>NY</td>\n",
       "      <td>NY</td>\n",
       "      <td>1</td>\n",
       "    </tr>\n",
       "  </tbody>\n",
       "</table>\n",
       "<p>5 rows × 31 columns</p>\n",
       "</div>"
      ],
      "text/plain": [
       "                   Job Title              Salary Estimate  \\\n",
       "0             Data Scientist   $53K-$91K (Glassdoor est.)   \n",
       "1  Healthcare Data Scientist  $63K-$112K (Glassdoor est.)   \n",
       "2             Data Scientist   $80K-$90K (Glassdoor est.)   \n",
       "3             Data Scientist   $56K-$97K (Glassdoor est.)   \n",
       "4             Data Scientist  $86K-$143K (Glassdoor est.)   \n",
       "\n",
       "                                     Job Description  Rating  \\\n",
       "0  Data Scientist\\r\\nLocation: Albuquerque, NM\\r\\...     3.8   \n",
       "1  What You Will Do:\\r\\n\\r\\nI. General Summary\\r\\...     3.4   \n",
       "2  KnowBe4, Inc. is a high growth information sec...     4.8   \n",
       "3  *Organization and Job ID**\\r\\nJob ID: 310709\\r...     3.8   \n",
       "4  Data Scientist\\r\\nAffinity Solutions / Marketi...     2.9   \n",
       "\n",
       "                            Company Name         Location    Headquarters  \\\n",
       "0                      Tecolote Research  Albuquerque, NM      Goleta, CA   \n",
       "1  University of Maryland Medical System    Linthicum, MD   Baltimore, MD   \n",
       "2                                KnowBe4   Clearwater, FL  Clearwater, FL   \n",
       "3                                   PNNL     Richland, WA    Richland, WA   \n",
       "4                     Affinity Solutions     New York, NY    New York, NY   \n",
       "\n",
       "                     Size  Founded   Type of ownership  ... tech_java tech_R  \\\n",
       "0   501 to 1000 employees     1973   Company - Private  ...         0      0   \n",
       "1        10000+ employees     1984  Other Organization  ...         0      0   \n",
       "2   501 to 1000 employees     2010   Company - Private  ...         0      0   \n",
       "3  1001 to 5000 employees     1965          Government  ...         0      0   \n",
       "4     51 to 200 employees     1998   Company - Private  ...         0      0   \n",
       "\n",
       "  tech_spark tech_aws tech_excel len_description  bins_rating  state_location  \\\n",
       "0          0        0          1            2555       medium              NM   \n",
       "1          0        0          0            4828       medium              MD   \n",
       "2          1        0          1            3495         high              FL   \n",
       "3          0        0          0            3926       medium              WA   \n",
       "4          0        0          0            2748          low              NY   \n",
       "\n",
       "   state_headquarters  job_in_headquarters  \n",
       "0                  CA                    0  \n",
       "1                  MD                    0  \n",
       "2                  FL                    1  \n",
       "3                  WA                    1  \n",
       "4                  NY                    1  \n",
       "\n",
       "[5 rows x 31 columns]"
      ]
     },
     "execution_count": 38,
     "metadata": {},
     "output_type": "execute_result"
    }
   ],
   "source": [
    "df.head()"
   ]
  },
  {
   "cell_type": "markdown",
   "metadata": {},
   "source": [
    "## Size"
   ]
  },
  {
   "cell_type": "code",
   "execution_count": 39,
   "metadata": {},
   "outputs": [
    {
     "data": {
      "text/plain": [
       "array(['501 to 1000 employees', '10000+ employees',\n",
       "       '1001 to 5000 employees', '51 to 200 employees',\n",
       "       '201 to 500 employees', '5001 to 10000 employees',\n",
       "       '1 to 50 employees', 'Unknown', '-1'], dtype=object)"
      ]
     },
     "execution_count": 39,
     "metadata": {},
     "output_type": "execute_result"
    }
   ],
   "source": [
    "df['Size'].unique()"
   ]
  },
  {
   "cell_type": "code",
   "execution_count": 40,
   "metadata": {},
   "outputs": [
    {
     "data": {
      "text/plain": [
       "1001 to 5000 employees     150\n",
       "501 to 1000 employees      134\n",
       "10000+ employees           130\n",
       "201 to 500 employees       117\n",
       "51 to 200 employees         94\n",
       "5001 to 10000 employees     76\n",
       "1 to 50 employees           31\n",
       "Unknown                      9\n",
       "-1                           1\n",
       "Name: Size, dtype: int64"
      ]
     },
     "execution_count": 40,
     "metadata": {},
     "output_type": "execute_result"
    }
   ],
   "source": [
    "df['Size'].value_counts()"
   ]
  },
  {
   "cell_type": "code",
   "execution_count": 41,
   "metadata": {},
   "outputs": [
    {
     "data": {
      "text/plain": [
       "<AxesSubplot:>"
      ]
     },
     "execution_count": 41,
     "metadata": {},
     "output_type": "execute_result"
    },
    {
     "data": {
      "image/png": "[encoded data removed]",
      "text/plain": [
       "<Figure size 432x288 with 1 Axes>"
      ]
     },
     "metadata": {
      "needs_background": "light"
     },
     "output_type": "display_data"
    }
   ],
   "source": [
    "df['Size'].hist()"
   ]
  },
  {
   "cell_type": "markdown",
   "metadata": {},
   "source": [
    "## Founded"
   ]
  },
  {
   "cell_type": "code",
   "execution_count": 42,
   "metadata": {},
   "outputs": [],
   "source": [
    "# df['Founded'].unique()"
   ]
  },
  {
   "cell_type": "code",
   "execution_count": 43,
   "metadata": {},
   "outputs": [],
   "source": [
    "from datetime import datetime"
   ]
  },
  {
   "cell_type": "code",
   "execution_count": 44,
   "metadata": {},
   "outputs": [],
   "source": [
    "#age of company \n",
    "df['age'] = df['Founded'].apply(lambda x: x if x <1 else datetime.now().year - x)"
   ]
  },
  {
   "cell_type": "code",
   "execution_count": 45,
   "metadata": {},
   "outputs": [
    {
     "data": {
      "text/plain": [
       "array([ 48,  37,  11,  56,  23,  21,  13,  16,   7,  12,  10,  53,  59,\n",
       "         9, 240,  26, 106,   8,  86, 172,  69, 169,  24,  25,  47,  52,\n",
       "       151,  36,  -1,   6,  28,  63,  35,  22,  96, 109,  19, 158,  82,\n",
       "         5, 136,  15,  73,  18,  94,  43, 161,   4,  79,  31,  33,  20,\n",
       "        14,  29,  27,  44,   2,  39,  84, 143,  55,  50,  78,  34,  76,\n",
       "       175, 170,  45,  40,  51,  70,  54,  60,  57,  91, 104, 138, 134,\n",
       "        17, 171, 119, 277,  92,  74,  30,  32,  93, 146, 108,  49, 165,\n",
       "        38,  99, 209, 107,  41,  67, 191,  46, 122,  42, 132], dtype=int64)"
      ]
     },
     "execution_count": 45,
     "metadata": {},
     "output_type": "execute_result"
    }
   ],
   "source": [
    "df['age'].unique()"
   ]
  },
  {
   "cell_type": "markdown",
   "metadata": {},
   "source": [
    "## Type of ownership"
   ]
  },
  {
   "cell_type": "code",
   "execution_count": 46,
   "metadata": {},
   "outputs": [
    {
     "data": {
      "text/plain": [
       "Index(['Job Title', 'Salary Estimate', 'Job Description', 'Rating',\n",
       "       'Company Name', 'Location', 'Headquarters', 'Size', 'Founded',\n",
       "       'Type of ownership', 'Industry', 'Sector', 'Revenue', 'Competitors',\n",
       "       'title', 'level', 'hourly', 'min_salary', 'max_salary', 'avg_salary',\n",
       "       'tech_python', 'tech_java', 'tech_R', 'tech_spark', 'tech_aws',\n",
       "       'tech_excel', 'len_description', 'bins_rating', 'state_location',\n",
       "       'state_headquarters', 'job_in_headquarters', 'age'],\n",
       "      dtype='object')"
      ]
     },
     "execution_count": 46,
     "metadata": {},
     "output_type": "execute_result"
    }
   ],
   "source": [
    "df.columns"
   ]
  },
  {
   "cell_type": "code",
   "execution_count": 47,
   "metadata": {},
   "outputs": [
    {
     "data": {
      "text/plain": [
       "array(['Company - Private', 'Other Organization', 'Government',\n",
       "       'Company - Public', 'Hospital', 'Subsidiary or Business Segment',\n",
       "       'Nonprofit Organization', 'Unknown', 'College / University',\n",
       "       'School / School District', '-1'], dtype=object)"
      ]
     },
     "execution_count": 47,
     "metadata": {},
     "output_type": "execute_result"
    }
   ],
   "source": [
    "df['Type of ownership'].unique()"
   ]
  },
  {
   "cell_type": "code",
   "execution_count": 48,
   "metadata": {},
   "outputs": [],
   "source": [
    "df['Type of ownership'] = df['Type of ownership'].apply(lambda x:'Unknown' if x=='-1' else x)"
   ]
  },
  {
   "cell_type": "markdown",
   "metadata": {},
   "source": [
    "## Industry"
   ]
  },
  {
   "cell_type": "code",
   "execution_count": 50,
   "metadata": {},
   "outputs": [],
   "source": [
    "# df['Industry'].unique()"
   ]
  },
  {
   "cell_type": "code",
   "execution_count": null,
   "metadata": {},
   "outputs": [],
   "source": []
  },
  {
   "cell_type": "markdown",
   "metadata": {},
   "source": [
    "## Sector"
   ]
  },
  {
   "cell_type": "code",
   "execution_count": 51,
   "metadata": {},
   "outputs": [],
   "source": [
    "# df['Sector'].unique()"
   ]
  },
  {
   "cell_type": "code",
   "execution_count": 52,
   "metadata": {},
   "outputs": [
    {
     "data": {
      "text/html": [
       "<div>\n",
       "<style scoped>\n",
       "    .dataframe tbody tr th:only-of-type {\n",
       "        vertical-align: middle;\n",
       "    }\n",
       "\n",
       "    .dataframe tbody tr th {\n",
       "        vertical-align: top;\n",
       "    }\n",
       "\n",
       "    .dataframe thead th {\n",
       "        text-align: right;\n",
       "    }\n",
       "</style>\n",
       "<table border=\"1\" class=\"dataframe\">\n",
       "  <thead>\n",
       "    <tr style=\"text-align: right;\">\n",
       "      <th></th>\n",
       "      <th>Job Title</th>\n",
       "      <th>Salary Estimate</th>\n",
       "      <th>Job Description</th>\n",
       "      <th>Rating</th>\n",
       "      <th>Company Name</th>\n",
       "      <th>Location</th>\n",
       "      <th>Headquarters</th>\n",
       "      <th>Size</th>\n",
       "      <th>Founded</th>\n",
       "      <th>Type of ownership</th>\n",
       "      <th>...</th>\n",
       "      <th>tech_R</th>\n",
       "      <th>tech_spark</th>\n",
       "      <th>tech_aws</th>\n",
       "      <th>tech_excel</th>\n",
       "      <th>len_description</th>\n",
       "      <th>bins_rating</th>\n",
       "      <th>state_location</th>\n",
       "      <th>state_headquarters</th>\n",
       "      <th>job_in_headquarters</th>\n",
       "      <th>age</th>\n",
       "    </tr>\n",
       "  </thead>\n",
       "  <tbody>\n",
       "    <tr>\n",
       "      <th>43</th>\n",
       "      <td>Data Engineer</td>\n",
       "      <td>$68K-$129K (Glassdoor est.)</td>\n",
       "      <td>Position Title: Data Engineer\\r\\n\\r\\nPersivia ...</td>\n",
       "      <td>3.6</td>\n",
       "      <td>Persivia</td>\n",
       "      <td>Marlborough, MA</td>\n",
       "      <td>Lowell, MA</td>\n",
       "      <td>1 to 50 employees</td>\n",
       "      <td>-1</td>\n",
       "      <td>Company - Private</td>\n",
       "      <td>...</td>\n",
       "      <td>0</td>\n",
       "      <td>0</td>\n",
       "      <td>0</td>\n",
       "      <td>0</td>\n",
       "      <td>2042</td>\n",
       "      <td>medium</td>\n",
       "      <td>MA</td>\n",
       "      <td>MA</td>\n",
       "      <td>0</td>\n",
       "      <td>-1</td>\n",
       "    </tr>\n",
       "    <tr>\n",
       "      <th>377</th>\n",
       "      <td>Data Operations Lead</td>\n",
       "      <td>Employer Provided Salary:$85K-$90K</td>\n",
       "      <td>Data Operations Lead\\r\\nLocation: Flexible tho...</td>\n",
       "      <td>-1.0</td>\n",
       "      <td>Muso</td>\n",
       "      <td>San Francisco, CA</td>\n",
       "      <td>San Francisco, CA</td>\n",
       "      <td>201 to 500 employees</td>\n",
       "      <td>-1</td>\n",
       "      <td>Nonprofit Organization</td>\n",
       "      <td>...</td>\n",
       "      <td>0</td>\n",
       "      <td>0</td>\n",
       "      <td>0</td>\n",
       "      <td>0</td>\n",
       "      <td>5970</td>\n",
       "      <td>other</td>\n",
       "      <td>CA</td>\n",
       "      <td>CA</td>\n",
       "      <td>1</td>\n",
       "      <td>-1</td>\n",
       "    </tr>\n",
       "    <tr>\n",
       "      <th>472</th>\n",
       "      <td>Research Scientist, Immunology - Cancer Biology</td>\n",
       "      <td>Employer Provided Salary:$100K-$140K</td>\n",
       "      <td>Research Scientist, Immunology - Cancer Biolog...</td>\n",
       "      <td>-1.0</td>\n",
       "      <td>Kronos Bio</td>\n",
       "      <td>Cambridge, MA</td>\n",
       "      <td>San Mateo, CA</td>\n",
       "      <td>Unknown</td>\n",
       "      <td>-1</td>\n",
       "      <td>Company - Private</td>\n",
       "      <td>...</td>\n",
       "      <td>0</td>\n",
       "      <td>0</td>\n",
       "      <td>0</td>\n",
       "      <td>0</td>\n",
       "      <td>3334</td>\n",
       "      <td>other</td>\n",
       "      <td>MA</td>\n",
       "      <td>CA</td>\n",
       "      <td>0</td>\n",
       "      <td>-1</td>\n",
       "    </tr>\n",
       "    <tr>\n",
       "      <th>518</th>\n",
       "      <td>Senior Scientist, Cell Pharmacology/Assay Deve...</td>\n",
       "      <td>Employer Provided Salary:$110K-$130K</td>\n",
       "      <td>Senior Scientist, Cell Pharmacology/Assay Deve...</td>\n",
       "      <td>-1.0</td>\n",
       "      <td>Kronos Bio</td>\n",
       "      <td>Cambridge, MA</td>\n",
       "      <td>San Mateo, CA</td>\n",
       "      <td>Unknown</td>\n",
       "      <td>-1</td>\n",
       "      <td>Company - Private</td>\n",
       "      <td>...</td>\n",
       "      <td>0</td>\n",
       "      <td>0</td>\n",
       "      <td>0</td>\n",
       "      <td>0</td>\n",
       "      <td>3239</td>\n",
       "      <td>other</td>\n",
       "      <td>MA</td>\n",
       "      <td>CA</td>\n",
       "      <td>0</td>\n",
       "      <td>-1</td>\n",
       "    </tr>\n",
       "    <tr>\n",
       "      <th>583</th>\n",
       "      <td>Data Scientist</td>\n",
       "      <td>$81K-$140K (Glassdoor est.)</td>\n",
       "      <td>As a Data Scientist, you will play a critical ...</td>\n",
       "      <td>-1.0</td>\n",
       "      <td>ALIN</td>\n",
       "      <td>New York, NY</td>\n",
       "      <td>Noida, India</td>\n",
       "      <td>Unknown</td>\n",
       "      <td>-1</td>\n",
       "      <td>Company - Private</td>\n",
       "      <td>...</td>\n",
       "      <td>0</td>\n",
       "      <td>0</td>\n",
       "      <td>0</td>\n",
       "      <td>0</td>\n",
       "      <td>1850</td>\n",
       "      <td>other</td>\n",
       "      <td>NY</td>\n",
       "      <td>India</td>\n",
       "      <td>0</td>\n",
       "      <td>-1</td>\n",
       "    </tr>\n",
       "    <tr>\n",
       "      <th>703</th>\n",
       "      <td>Research Scientist, Immunology - Cancer Biology</td>\n",
       "      <td>Employer Provided Salary:$100K-$140K</td>\n",
       "      <td>Research Scientist, Immunology - Cancer Biolog...</td>\n",
       "      <td>-1.0</td>\n",
       "      <td>Kronos Bio</td>\n",
       "      <td>Cambridge, MA</td>\n",
       "      <td>San Mateo, CA</td>\n",
       "      <td>Unknown</td>\n",
       "      <td>-1</td>\n",
       "      <td>Company - Private</td>\n",
       "      <td>...</td>\n",
       "      <td>0</td>\n",
       "      <td>0</td>\n",
       "      <td>0</td>\n",
       "      <td>0</td>\n",
       "      <td>3334</td>\n",
       "      <td>other</td>\n",
       "      <td>MA</td>\n",
       "      <td>CA</td>\n",
       "      <td>0</td>\n",
       "      <td>-1</td>\n",
       "    </tr>\n",
       "    <tr>\n",
       "      <th>741</th>\n",
       "      <td>Scientist – Cancer Discovery, Molecular Assay</td>\n",
       "      <td>Employer Provided Salary:$100K-$135K</td>\n",
       "      <td>Scientist – Cancer Discovery, Molecular Assay\\...</td>\n",
       "      <td>-1.0</td>\n",
       "      <td>Monte Rosa Therapeutics</td>\n",
       "      <td>Cambridge, MA</td>\n",
       "      <td>-1</td>\n",
       "      <td>-1</td>\n",
       "      <td>-1</td>\n",
       "      <td>Unknown</td>\n",
       "      <td>...</td>\n",
       "      <td>0</td>\n",
       "      <td>0</td>\n",
       "      <td>0</td>\n",
       "      <td>0</td>\n",
       "      <td>3465</td>\n",
       "      <td>other</td>\n",
       "      <td>MA</td>\n",
       "      <td>-1</td>\n",
       "      <td>0</td>\n",
       "      <td>-1</td>\n",
       "    </tr>\n",
       "    <tr>\n",
       "      <th>778</th>\n",
       "      <td>Senior Scientist, Cell Pharmacology/Assay Deve...</td>\n",
       "      <td>Employer Provided Salary:$110K-$130K</td>\n",
       "      <td>Senior Scientist, Cell Pharmacology/Assay Deve...</td>\n",
       "      <td>-1.0</td>\n",
       "      <td>Kronos Bio</td>\n",
       "      <td>Cambridge, MA</td>\n",
       "      <td>San Mateo, CA</td>\n",
       "      <td>Unknown</td>\n",
       "      <td>-1</td>\n",
       "      <td>Company - Private</td>\n",
       "      <td>...</td>\n",
       "      <td>0</td>\n",
       "      <td>0</td>\n",
       "      <td>0</td>\n",
       "      <td>0</td>\n",
       "      <td>3239</td>\n",
       "      <td>other</td>\n",
       "      <td>MA</td>\n",
       "      <td>CA</td>\n",
       "      <td>0</td>\n",
       "      <td>-1</td>\n",
       "    </tr>\n",
       "    <tr>\n",
       "      <th>819</th>\n",
       "      <td>Principal Research Scientist/Team Lead, Medici...</td>\n",
       "      <td>Employer Provided Salary:$120K-$145K</td>\n",
       "      <td>Principal Research Scientist/Team Lead, Medici...</td>\n",
       "      <td>-1.0</td>\n",
       "      <td>Kronos Bio</td>\n",
       "      <td>Cambridge, MA</td>\n",
       "      <td>San Mateo, CA</td>\n",
       "      <td>Unknown</td>\n",
       "      <td>-1</td>\n",
       "      <td>Company - Private</td>\n",
       "      <td>...</td>\n",
       "      <td>0</td>\n",
       "      <td>0</td>\n",
       "      <td>0</td>\n",
       "      <td>0</td>\n",
       "      <td>3111</td>\n",
       "      <td>other</td>\n",
       "      <td>MA</td>\n",
       "      <td>CA</td>\n",
       "      <td>0</td>\n",
       "      <td>-1</td>\n",
       "    </tr>\n",
       "    <tr>\n",
       "      <th>943</th>\n",
       "      <td>Research Scientist, Immunology - Cancer Biology</td>\n",
       "      <td>Employer Provided Salary:$100K-$140K</td>\n",
       "      <td>Research Scientist, Immunology - Cancer Biolog...</td>\n",
       "      <td>-1.0</td>\n",
       "      <td>Kronos Bio</td>\n",
       "      <td>Cambridge, MA</td>\n",
       "      <td>San Mateo, CA</td>\n",
       "      <td>Unknown</td>\n",
       "      <td>-1</td>\n",
       "      <td>Company - Private</td>\n",
       "      <td>...</td>\n",
       "      <td>0</td>\n",
       "      <td>0</td>\n",
       "      <td>0</td>\n",
       "      <td>0</td>\n",
       "      <td>3334</td>\n",
       "      <td>other</td>\n",
       "      <td>MA</td>\n",
       "      <td>CA</td>\n",
       "      <td>0</td>\n",
       "      <td>-1</td>\n",
       "    </tr>\n",
       "  </tbody>\n",
       "</table>\n",
       "<p>10 rows × 32 columns</p>\n",
       "</div>"
      ],
      "text/plain": [
       "                                             Job Title  \\\n",
       "43                                       Data Engineer   \n",
       "377                               Data Operations Lead   \n",
       "472    Research Scientist, Immunology - Cancer Biology   \n",
       "518  Senior Scientist, Cell Pharmacology/Assay Deve...   \n",
       "583                                     Data Scientist   \n",
       "703    Research Scientist, Immunology - Cancer Biology   \n",
       "741      Scientist – Cancer Discovery, Molecular Assay   \n",
       "778  Senior Scientist, Cell Pharmacology/Assay Deve...   \n",
       "819  Principal Research Scientist/Team Lead, Medici...   \n",
       "943    Research Scientist, Immunology - Cancer Biology   \n",
       "\n",
       "                          Salary Estimate  \\\n",
       "43            $68K-$129K (Glassdoor est.)   \n",
       "377    Employer Provided Salary:$85K-$90K   \n",
       "472  Employer Provided Salary:$100K-$140K   \n",
       "518  Employer Provided Salary:$110K-$130K   \n",
       "583           $81K-$140K (Glassdoor est.)   \n",
       "703  Employer Provided Salary:$100K-$140K   \n",
       "741  Employer Provided Salary:$100K-$135K   \n",
       "778  Employer Provided Salary:$110K-$130K   \n",
       "819  Employer Provided Salary:$120K-$145K   \n",
       "943  Employer Provided Salary:$100K-$140K   \n",
       "\n",
       "                                       Job Description  Rating  \\\n",
       "43   Position Title: Data Engineer\\r\\n\\r\\nPersivia ...     3.6   \n",
       "377  Data Operations Lead\\r\\nLocation: Flexible tho...    -1.0   \n",
       "472  Research Scientist, Immunology - Cancer Biolog...    -1.0   \n",
       "518  Senior Scientist, Cell Pharmacology/Assay Deve...    -1.0   \n",
       "583  As a Data Scientist, you will play a critical ...    -1.0   \n",
       "703  Research Scientist, Immunology - Cancer Biolog...    -1.0   \n",
       "741  Scientist – Cancer Discovery, Molecular Assay\\...    -1.0   \n",
       "778  Senior Scientist, Cell Pharmacology/Assay Deve...    -1.0   \n",
       "819  Principal Research Scientist/Team Lead, Medici...    -1.0   \n",
       "943  Research Scientist, Immunology - Cancer Biolog...    -1.0   \n",
       "\n",
       "                Company Name           Location       Headquarters  \\\n",
       "43                  Persivia    Marlborough, MA         Lowell, MA   \n",
       "377                     Muso  San Francisco, CA  San Francisco, CA   \n",
       "472               Kronos Bio      Cambridge, MA      San Mateo, CA   \n",
       "518               Kronos Bio      Cambridge, MA      San Mateo, CA   \n",
       "583                     ALIN       New York, NY       Noida, India   \n",
       "703               Kronos Bio      Cambridge, MA      San Mateo, CA   \n",
       "741  Monte Rosa Therapeutics      Cambridge, MA                 -1   \n",
       "778               Kronos Bio      Cambridge, MA      San Mateo, CA   \n",
       "819               Kronos Bio      Cambridge, MA      San Mateo, CA   \n",
       "943               Kronos Bio      Cambridge, MA      San Mateo, CA   \n",
       "\n",
       "                     Size  Founded       Type of ownership  ... tech_R  \\\n",
       "43      1 to 50 employees       -1       Company - Private  ...      0   \n",
       "377  201 to 500 employees       -1  Nonprofit Organization  ...      0   \n",
       "472               Unknown       -1       Company - Private  ...      0   \n",
       "518               Unknown       -1       Company - Private  ...      0   \n",
       "583               Unknown       -1       Company - Private  ...      0   \n",
       "703               Unknown       -1       Company - Private  ...      0   \n",
       "741                    -1       -1                 Unknown  ...      0   \n",
       "778               Unknown       -1       Company - Private  ...      0   \n",
       "819               Unknown       -1       Company - Private  ...      0   \n",
       "943               Unknown       -1       Company - Private  ...      0   \n",
       "\n",
       "    tech_spark tech_aws tech_excel len_description bins_rating  \\\n",
       "43           0        0          0            2042      medium   \n",
       "377          0        0          0            5970       other   \n",
       "472          0        0          0            3334       other   \n",
       "518          0        0          0            3239       other   \n",
       "583          0        0          0            1850       other   \n",
       "703          0        0          0            3334       other   \n",
       "741          0        0          0            3465       other   \n",
       "778          0        0          0            3239       other   \n",
       "819          0        0          0            3111       other   \n",
       "943          0        0          0            3334       other   \n",
       "\n",
       "     state_location  state_headquarters  job_in_headquarters  age  \n",
       "43               MA                  MA                    0   -1  \n",
       "377              CA                  CA                    1   -1  \n",
       "472              MA                  CA                    0   -1  \n",
       "518              MA                  CA                    0   -1  \n",
       "583              NY               India                    0   -1  \n",
       "703              MA                  CA                    0   -1  \n",
       "741              MA                  -1                    0   -1  \n",
       "778              MA                  CA                    0   -1  \n",
       "819              MA                  CA                    0   -1  \n",
       "943              MA                  CA                    0   -1  \n",
       "\n",
       "[10 rows x 32 columns]"
      ]
     },
     "execution_count": 52,
     "metadata": {},
     "output_type": "execute_result"
    }
   ],
   "source": [
    "df[df['Sector']=='-1']"
   ]
  },
  {
   "cell_type": "markdown",
   "metadata": {},
   "source": [
    "## Revenue"
   ]
  },
  {
   "cell_type": "code",
   "execution_count": 53,
   "metadata": {},
   "outputs": [
    {
     "data": {
      "text/plain": [
       "array(['$50 to $100 million (USD)', '$2 to $5 billion (USD)',\n",
       "       '$100 to $500 million (USD)', '$500 million to $1 billion (USD)',\n",
       "       'Unknown / Non-Applicable', '$1 to $2 billion (USD)',\n",
       "       '$25 to $50 million (USD)', '$10+ billion (USD)',\n",
       "       '$1 to $5 million (USD)', '$10 to $25 million (USD)',\n",
       "       '$5 to $10 billion (USD)', 'Less than $1 million (USD)',\n",
       "       '$5 to $10 million (USD)', '-1'], dtype=object)"
      ]
     },
     "execution_count": 53,
     "metadata": {},
     "output_type": "execute_result"
    }
   ],
   "source": [
    "df['Revenue'].unique()"
   ]
  },
  {
   "cell_type": "code",
   "execution_count": null,
   "metadata": {},
   "outputs": [],
   "source": []
  },
  {
   "cell_type": "markdown",
   "metadata": {},
   "source": [
    "## Competitors"
   ]
  },
  {
   "cell_type": "code",
   "execution_count": 54,
   "metadata": {},
   "outputs": [],
   "source": [
    "# df['Competitors'].unique()"
   ]
  },
  {
   "cell_type": "code",
   "execution_count": 55,
   "metadata": {},
   "outputs": [],
   "source": [
    "#Competitor count\n",
    "df['num_competitors'] = df['Competitors'].apply(lambda x: len(x.split(',')) if x != '-1' else 0)\n"
   ]
  },
  {
   "cell_type": "code",
   "execution_count": null,
   "metadata": {},
   "outputs": [],
   "source": []
  },
  {
   "cell_type": "code",
   "execution_count": null,
   "metadata": {},
   "outputs": [],
   "source": []
  },
  {
   "cell_type": "code",
   "execution_count": 56,
   "metadata": {},
   "outputs": [],
   "source": [
    "df.to_csv('salary_data_cleaned.csv',index = False)"
   ]
  },
  {
   "cell_type": "code",
   "execution_count": null,
   "metadata": {},
   "outputs": [],
   "source": []
  }
 ],
 "metadata": {
  "kernelspec": {
   "display_name": "Python 3",
   "language": "python",
   "name": "python3"
  },
  "language_info": {
   "codemirror_mode": {
    "name": "ipython",
    "version": 3
   },
   "file_extension": ".py",
   "mimetype": "text/x-python",
   "name": "python",
   "nbconvert_exporter": "python",
   "pygments_lexer": "ipython3",
   "version": "3.8.5"
  }
 },
 "nbformat": 4,
 "nbformat_minor": 4
}
